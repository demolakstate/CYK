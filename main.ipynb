{
 "cells": [
  {
   "cell_type": "markdown",
   "metadata": {},
   "source": [
    "# Implementing Cocke-Kasami-Younger Algorithm (CYK) Algorithm"
   ]
  },
  {
   "cell_type": "code",
   "execution_count": 1,
   "metadata": {},
   "outputs": [],
   "source": [
    "import sys\n",
    "import os"
   ]
  },
  {
   "cell_type": "markdown",
   "metadata": {},
   "source": [
    "sys.version"
   ]
  },
  {
   "cell_type": "markdown",
   "metadata": {},
   "source": [
    "## Function to read input file containing Context Free Grammar (CFG) rules and return a dictionary"
   ]
  },
  {
   "cell_type": "code",
   "execution_count": 2,
   "metadata": {},
   "outputs": [],
   "source": [
    "def readInput():\n",
    "    dicts = {}\n",
    "    with open('cfg.txt', 'r') as f:                 # open the CFG production rules to be checked\n",
    "        f_contents = f.readlines()\n",
    "        for i in f_contents:\n",
    "           k,v = i.replace(' ', '').replace('\\n', '').split('->')\n",
    "           if not dicts.get(k):\n",
    "                dicts[k] = [v]                      # convert the values to a list type\n",
    "           else:\n",
    "               dicts[k].append(v)                   # append new rules to existing RHS (key)\n",
    "        #print(dicts)\n",
    "\n",
    "        \"\"\"function readInput returns a dictionary \n",
    "        e.g {'A': ['a'], 'S': ['AB', 'BA', 'SS', 'AC', 'BD'], 'B': ['b'], 'D': ['SA'], 'C': ['SB']}\n",
    "        \"\"\"\n",
    "\n",
    "    return dicts"
   ]
  },
  {
   "cell_type": "markdown",
   "metadata": {},
   "source": [
    "## Example of cfg.txt content"
   ]
  },
  {
   "cell_type": "markdown",
   "metadata": {},
   "source": [
    "S -> AB\n",
    "\n",
    "S -> BA\n",
    "\n",
    "S -> SS\n",
    "\n",
    "S -> AC\n",
    "\n",
    "S -> BD\n",
    "\n",
    "A -> a\n",
    "\n",
    "B -> b\n",
    "\n",
    "C -> SB\n",
    "\n",
    "D -> SA"
   ]
  },
  {
   "cell_type": "markdown",
   "metadata": {},
   "source": [
    "## CYK function implementation"
   ]
  },
  {
   "cell_type": "code",
   "execution_count": 3,
   "metadata": {},
   "outputs": [],
   "source": [
    "def CYK(dicts, word):\n",
    "    IsAccepted = False\n",
    "    column = set()\n",
    "    rows = []\n",
    "    level = []\n",
    "\n",
    "    # extract each symbol in the input string and add the LHS to set\n",
    "    for w in word:\n",
    "        for x, y in dicts.items():\n",
    "            if w in y:\n",
    "                column.add(x)\n",
    "        rows.append(column)\n",
    "        column = set()  # empty set for reuse in the next iteration\n",
    "    level.append(rows)\n",
    "    rows = []  # empty the set for reuse\n",
    "    # print('level', level)\n",
    "    # print dicts\n",
    "\n",
    "    \"\"\"After the first level, we start grouping symbols in input string\"\"\"\n",
    "\n",
    "    start = 0\n",
    "    end = start + 2\n",
    "    endings = 0\n",
    "\n",
    "    for j in range(2, len(word) + 1):  # handles level splitting\n",
    "        # print('j',j)\n",
    "        end = start + j  # increment end at each level\n",
    "        endings = endings + 1\n",
    "        for i in range(len(word) - endings):  # handles row splitting\n",
    "            # print('word', word)\n",
    "            # print('temp', word[start:end])\n",
    "            # print('i', i)\n",
    "            temp = word[start:end]  # extract substring of input string\n",
    "\n",
    "            for j in range(1, len(temp)):  # get each splitting of substring\n",
    "                temp_a = temp[:j]\n",
    "                temp_b = temp[j:]\n",
    "                # print temp_a\n",
    "                # print temp_b\n",
    "\n",
    "                for x in list(level[len(temp_a) - 1][i]):  # loop over variables for temp_a\n",
    "                    for y in list(level[len(temp_b) - 1][i + j]):  # loop over variables for temp_b\n",
    "                        for k, v in dicts.items():\n",
    "                            if x + y in v:\n",
    "                                column.add(k)\n",
    "\n",
    "            rows.append(column)\n",
    "            # print('rows', rows)\n",
    "            column = set()  # empty set for reuse in the next iteration\n",
    "\n",
    "            start = start + 1\n",
    "            end = end + 1\n",
    "            # print('start ', start, 'end ', end)\n",
    "\n",
    "        level.append(rows)\n",
    "        print('level', level)\n",
    "        rows = []  # empty the set for reuse\n",
    "\n",
    "        start = 0  # reset start to the beginning of input string\n",
    "        # end = end + 1           # increment end at each level\n",
    "\n",
    "    \"\"\"\"Check for S in the last set\"\"\"\n",
    "\n",
    "    if 'S' in level[-1][\n",
    "        -1]:  # check for start symbol in the topmost (which is the last element of the 2 dimensional list) level\n",
    "        IsAccepted = True\n",
    "\n",
    "    return IsAccepted"
   ]
  },
  {
   "cell_type": "markdown",
   "metadata": {},
   "source": [
    "## main method"
   ]
  },
  {
   "cell_type": "code",
   "execution_count": 4,
   "metadata": {},
   "outputs": [],
   "source": [
    "def main(word):\n",
    "    #print(word)\n",
    "    dicts = readInput()\n",
    "\n",
    "    # process the word and CFG with the CYK algorithm\n",
    "    if CYK(dicts, word):\n",
    "        print('input string is ACCEPTED')\n",
    "    else:\n",
    "        print('input string is REJECTED')"
   ]
  },
  {
   "cell_type": "code",
   "execution_count": 7,
   "metadata": {},
   "outputs": [
    {
     "name": "stdout",
     "output_type": "stream",
     "text": [
      "level [[{'A'}, {'A'}, {'B'}, {'B'}, {'A'}, {'B'}], [set(), {'S'}, set(), {'S'}, {'S'}]]\n",
      "level [[{'A'}, {'A'}, {'B'}, {'B'}, {'A'}, {'B'}], [set(), {'S'}, set(), {'S'}, {'S'}], [set(), {'C'}, set(), {'C'}]]\n",
      "level [[{'A'}, {'A'}, {'B'}, {'B'}, {'A'}, {'B'}], [set(), {'S'}, set(), {'S'}, {'S'}], [set(), {'C'}, set(), {'C'}], [{'S'}, {'S'}, set()]]\n",
      "level [[{'A'}, {'A'}, {'B'}, {'B'}, {'A'}, {'B'}], [set(), {'S'}, set(), {'S'}, {'S'}], [set(), {'C'}, set(), {'C'}], [{'S'}, {'S'}, set()], [{'D'}, {'C'}]]\n",
      "level [[{'A'}, {'A'}, {'B'}, {'B'}, {'A'}, {'B'}], [set(), {'S'}, set(), {'S'}, {'S'}], [set(), {'C'}, set(), {'C'}], [{'S'}, {'S'}, set()], [{'D'}, {'C'}], [{'S'}]]\n",
      "input string is ACCEPTED\n"
     ]
    }
   ],
   "source": [
    "#if __name__ == \"__main__\":\n",
    "   # word = sys.argv[1]\n",
    "word = 'aabbab'  # input string to check whelther the grammar generates\n",
    "main(word)"
   ]
  },
  {
   "cell_type": "code",
   "execution_count": null,
   "metadata": {},
   "outputs": [],
   "source": []
  }
 ],
 "metadata": {
  "kernelspec": {
   "display_name": "Python 3",
   "language": "python",
   "name": "python3"
  },
  "language_info": {
   "codemirror_mode": {
    "name": "ipython",
    "version": 3
   },
   "file_extension": ".py",
   "mimetype": "text/x-python",
   "name": "python",
   "nbconvert_exporter": "python",
   "pygments_lexer": "ipython3",
   "version": "3.7.3"
  }
 },
 "nbformat": 4,
 "nbformat_minor": 2
}
